{
 "cells": [
  {
   "cell_type": "code",
   "execution_count": 32,
   "metadata": {},
   "outputs": [],
   "source": [
    "import matplotlib\n",
    "import numpy as np\n",
    "import matplotlib.pyplot as plt\n",
    "from scipy.stats import multivariate_normal\n",
    "from sklearn.cross_validation import train_test_split "
   ]
  },
  {
   "cell_type": "markdown",
   "metadata": {},
   "source": [
    "## Part1: Generate Training and Testing Data"
   ]
  },
  {
   "cell_type": "code",
   "execution_count": 2,
   "metadata": {},
   "outputs": [],
   "source": [
    "# Set required value to parameters\n",
    "n = 200\n",
    "d = 2\n",
    "yPositive = 1\n",
    "yNegative = 0\n",
    "mean1 = [1.0,1.0]\n",
    "cov1 = [[3.0, 2.0],[2.0,3.0]]\n",
    "mean2 = [-1.0,-1.0]\n",
    "cov2 = [[2.0,-1.0],[-1.0,2.0]]\n",
    "\n",
    "# Initialize the matrix and predefine the size of the input dataset\n",
    "positiveOneData = np.zeros((n,d))\n",
    "negativeOneData = np.zeros((n,d))\n",
    "positiveOneClass = yPositive*np.ones((n,1))\n",
    "negativeOneClass = yNegative*np.ones((n,1))\n",
    "# Set the seed to be reproductive\n",
    "np.random.seed(8675309)\n",
    "\n",
    "# Generate 200 random data points \n",
    "for i in range(0,n):\n",
    "    positiveOneData[i,:] = np.random.multivariate_normal(mean1,cov1,size=(1,))\n",
    "    negativeOneData[i,:] = np.random.multivariate_normal(mean2,cov2,size=(1,))"
   ]
  },
  {
   "cell_type": "code",
   "execution_count": 3,
   "metadata": {},
   "outputs": [],
   "source": [
    "X_training1, X_testing1, y_training1, y_testing1 = train_test_split( positiveOneData, positiveOneClass, test_size=0.5, random_state=1 )\n",
    "X_training2, X_testing2, y_training2, y_testing2 = train_test_split( negativeOneData, negativeOneClass, test_size=0.5, random_state=1 )"
   ]
  },
  {
   "cell_type": "code",
   "execution_count": 4,
   "metadata": {},
   "outputs": [],
   "source": [
    "X_training = np.concatenate( (X_training1,X_training2), axis = 0 )\n",
    "X_testing =  np.concatenate( (X_testing1,X_testing2), axis = 0 )\n",
    "y_training = np.concatenate( (y_training1,y_training2), axis = 0 )\n",
    "y_testing = np.concatenate( (y_testing1,y_testing2),axis = 0)"
   ]
  },
  {
   "cell_type": "code",
   "execution_count": 5,
   "metadata": {},
   "outputs": [
    {
     "data": {
      "image/png": "[encoded data removed]",
      "text/plain": [
       "<Figure size 432x288 with 1 Axes>"
      ]
     },
     "metadata": {
      "needs_background": "light"
     },
     "output_type": "display_data"
    }
   ],
   "source": [
    "# Scatter Plot of Training Set Data\n",
    "fig1, ax1 = plt.subplots()\n",
    "sc11= ax1.scatter(X_training[:100,0], \n",
    "                  X_training[:100,1], \n",
    "                  marker='o', \n",
    "                  color='red',\n",
    "                  s=5)\n",
    "sc12=ax1.scatter(X_training[100:,0], \n",
    "                 X_training[100:,1], \n",
    "                 marker='o', \n",
    "                 color='blue',\n",
    "                 s=5)\n",
    "# Plot the mixture centers as Xs\n",
    "ax1.scatter( X_training[:100,0].mean(), X_training[:100,1].mean(), marker='x', color='red',s=50)\n",
    "\n",
    "ax1.scatter( X_training[100:,0].mean(), X_training[100:,1].mean(), marker='x', color='blue',s=50)\n",
    "plt.axis('equal')\n",
    "plt.legend((sc11, sc12),\n",
    "           ('+1', '-1'),\n",
    "           scatterpoints=1,\n",
    "           loc='lower right',\n",
    "           ncol=3,\n",
    "           fontsize=8)\n",
    "plt.title('Training Data')\n",
    "plt.show()"
   ]
  },
  {
   "cell_type": "code",
   "execution_count": 6,
   "metadata": {},
   "outputs": [
    {
     "data": {
      "image/png": "[encoded data removed]",
      "text/plain": [
       "<Figure size 432x288 with 1 Axes>"
      ]
     },
     "metadata": {
      "needs_background": "light"
     },
     "output_type": "display_data"
    }
   ],
   "source": [
    "# Scatter Plot of Testing Set Data\n",
    "fig2, ax2 = plt.subplots()\n",
    "sc21= ax2.scatter(X_testing[:100,0], \n",
    "                  X_testing[:100,1], \n",
    "                  marker='o', \n",
    "                  color='red',\n",
    "                  s=5)\n",
    "sc22=ax2.scatter(X_testing[100:,0], \n",
    "                 X_testing[100:,1], \n",
    "                 marker='o', \n",
    "                 color='blue',\n",
    "                 s=5)\n",
    "# Plot the mixture centers as Xs\n",
    "ax2.scatter( X_testing[:100,0].mean(), X_testing[:100,1].mean(), marker='x', color='red',s=50)\n",
    "\n",
    "ax2.scatter( X_testing[100:,0].mean(), X_testing[100:,1].mean(), marker='x', color='blue',s=50)\n",
    "\n",
    "plt.axis('equal')\n",
    "plt.legend((sc21, sc22),\n",
    "           ('+1', '-1'),\n",
    "           scatterpoints=1,\n",
    "           loc='lower right',\n",
    "           ncol=3,\n",
    "           fontsize=8)\n",
    "plt.title('Testing Data')\n",
    "plt.show()"
   ]
  },
  {
   "cell_type": "markdown",
   "metadata": {},
   "source": [
    "## Part2: Linear Discriminant Analysis"
   ]
  },
  {
   "cell_type": "code",
   "execution_count": 7,
   "metadata": {},
   "outputs": [],
   "source": [
    "testing_mean = X_testing.mean()\n",
    "testing_cov = 1.0/(n-1)*(X_testing - testing_mean).T.dot(X_testing - testing_mean)"
   ]
  },
  {
   "cell_type": "code",
   "execution_count": 8,
   "metadata": {},
   "outputs": [
    {
     "name": "stdout",
     "output_type": "stream",
     "text": [
      "Estimated covariance matrix:\n",
      "[[3.61554695 1.27903729]\n",
      " [1.27903729 3.62905734]]\n"
     ]
    }
   ],
   "source": [
    "print \"Estimated covariance matrix:\\n\", testing_cov"
   ]
  },
  {
   "cell_type": "code",
   "execution_count": 9,
   "metadata": {},
   "outputs": [],
   "source": [
    "mu_k = np.array(mean1).reshape(d,-1)\n",
    "mu_l = np.array(mean2).reshape(d,-1)\n",
    "weight_LDA = (mu_k - mu_l).T.dot(np.linalg.pinv(testing_cov)).reshape(d,-1)"
   ]
  },
  {
   "cell_type": "code",
   "execution_count": 10,
   "metadata": {},
   "outputs": [
    {
     "name": "stdout",
     "output_type": "stream",
     "text": [
      "Learned weight(w):\n",
      "[[0.40922969]\n",
      " [0.406877  ]]\n"
     ]
    }
   ],
   "source": [
    "print \"Learned weight(w):\\n\", weight_LDA"
   ]
  },
  {
   "cell_type": "code",
   "execution_count": 11,
   "metadata": {},
   "outputs": [],
   "source": [
    "b_mu_k = 0.5*(mu_k.T.dot(np.linalg.pinv(testing_cov)).dot(mu_k))\n",
    "b_mu_l = 0.5*(mu_l.T.dot(np.linalg.pinv(testing_cov)).dot(mu_l))\n",
    "pi_k = 0.5\n",
    "pi_l = 0.5\n",
    "b_LDA = b_mu_l - b_mu_k + np.log(pi_k/pi_l)"
   ]
  },
  {
   "cell_type": "code",
   "execution_count": 12,
   "metadata": {},
   "outputs": [
    {
     "name": "stdout",
     "output_type": "stream",
     "text": [
      "Learned bias(b):\n",
      "[[0.]]\n"
     ]
    }
   ],
   "source": [
    "print \"Learned bias(b):\\n\", b_LDA"
   ]
  },
  {
   "cell_type": "code",
   "execution_count": 13,
   "metadata": {},
   "outputs": [],
   "source": [
    "y_hat = np.zeros((n,1))\n",
    "y_predict = np.zeros((n,1))\n",
    "correctCounts_LDA = 0\n",
    "TP_index_LDA = []\n",
    "TN_index_LDA = []\n",
    "FP_index_LDA = []\n",
    "FN_index_LDA = []\n",
    "\n",
    "for i in range(n):\n",
    "    y_hat[i] = weight_LDA.T.dot(X_testing[i,:])+b_LDA\n",
    "    y_predict[i]=yPositive if y_hat[i] >= 0 else yNegative\n",
    "    if y_predict[i]==y_testing[i]: correctCounts_LDA+=1\n",
    "    if y_predict[i]==y_testing[i] and y_testing[i]==yPositive:TP_index_LDA.append(i)\n",
    "    if y_predict[i]==y_testing[i] and y_testing[i]==yNegative:TN_index_LDA.append(i)  \n",
    "\n",
    "FP_index_LDA = list(set(range(0,100,1))-set(TP_index_LDA))\n",
    "FN_index_LDA = list(set(range(100,200,1))-set(TN_index_LDA))\n",
    "acc_LDA = 1.0*correctCounts_LDA/n"
   ]
  },
  {
   "cell_type": "code",
   "execution_count": 14,
   "metadata": {},
   "outputs": [
    {
     "name": "stdout",
     "output_type": "stream",
     "text": [
      "Classification accuracy:  83.5 %\n"
     ]
    }
   ],
   "source": [
    "print \"Classification accuracy: \", acc_LDA*100, \"%\""
   ]
  },
  {
   "cell_type": "code",
   "execution_count": 65,
   "metadata": {},
   "outputs": [
    {
     "data": {
      "image/png": "[encoded data removed]",
      "text/plain": [
       "<Figure size 432x288 with 1 Axes>"
      ]
     },
     "metadata": {
      "needs_background": "light"
     },
     "output_type": "display_data"
    }
   ],
   "source": [
    "# Scatter Plot of testing data\n",
    "fig3, ax3 = plt.subplots()\n",
    "sc31= ax3.scatter(X_testing[TP_index_LDA,0], \n",
    "                  X_testing[TP_index_LDA,1], \n",
    "                  marker='o', \n",
    "                  color='red',\n",
    "                  s=5)\n",
    "sc32=ax3.scatter(X_testing[TN_index_LDA,0], \n",
    "                 X_testing[TN_index_LDA,1], \n",
    "                 marker='o', \n",
    "                 color='blue',\n",
    "                 s=5)\n",
    "sc33= ax3.scatter(X_testing[FP_index_LDA,0], \n",
    "                  X_testing[FP_index_LDA,1], \n",
    "                  marker='x', \n",
    "                  color='orange',\n",
    "                  s=50)\n",
    "sc34=ax3.scatter(X_testing[FN_index_LDA,0], \n",
    "                 X_testing[FN_index_LDA,1], \n",
    "                 marker='x', \n",
    "                 color='green',\n",
    "                 s=50)\n",
    "plt.axis('equal')\n",
    "plt.legend((sc31, sc32, sc33, sc34),\n",
    "           ('+1', '-1','mis +1', 'mis -1'),\n",
    "           scatterpoints=1,\n",
    "           loc='lower right',\n",
    "           ncol=2,\n",
    "           fontsize=8)\n",
    "\n",
    "slop_LDA = -weight_LDA[0] / weight_LDA[1]\n",
    "xx_LDA = np.linspace(-5, 5)\n",
    "yy_LDA = slop_LDA * xx_LDA - (b_LDA) / weight_LDA[1]\n",
    "plt.plot(xx_LDA, yy_LDA.ravel(), 'k-')\n",
    "\n",
    "plt.title('Testing Data')\n",
    "plt.show()"
   ]
  },
  {
   "cell_type": "markdown",
   "metadata": {},
   "source": [
    "## Part3: Logistic Regression"
   ]
  },
  {
   "cell_type": "code",
   "execution_count": 48,
   "metadata": {},
   "outputs": [],
   "source": [
    "w_p = np.ones((d+1,1))\n",
    "w_c = np.zeros((d+1,1))\n",
    "\n",
    "colOfOnes = np.ones((n,1))\n",
    "X_training_with1 = np.concatenate( (X_training,colOfOnes), axis = 1 )\n",
    "X_testing_with1 = np.concatenate( (X_testing,colOfOnes), axis = 1 )\n",
    "\n",
    "p = np.zeros((n,1))\n",
    "s = np.zeros((n,1))\n",
    "z = np.zeros((n,1))\n",
    "\n",
    "while np.linalg.norm(w_p-w_c) >0.001:\n",
    "    for i in range(n):\n",
    "        p[i] = 1.0*np.e**(X_training_with1[i,:].dot(w_c))/(1+np.e**(X_training_with1[i,:].dot(w_c)))\n",
    "        s[i] = p[i]*(1-p[i])\n",
    "        z[i] = X_training_with1[i,:].dot(w_c) + 1.0*(y_training[i]-p[i])/s[i] \n",
    "    S_diag = np.diag(s.T[0])\n",
    "    w_p = np.linalg.pinv(X_training_with1.T.dot(S_diag).dot(X_training_with1)).dot(X_training_with1.T).dot(S_diag).dot(z)\n",
    "    for i in range(n):\n",
    "        p[i] = 1.0*np.e**(X_training_with1[i,:].dot(w_p))/(1+np.e**(X_training_with1[i,:].dot(w_p)))\n",
    "        s[i] = p[i]*(1-p[i])\n",
    "        z[i] = X_training_with1[i,:].dot(w_p) + 1.0*(y_training[i]-p[i])/s[i] \n",
    "    S_diag = np.diag(s.T[0])\n",
    "    w_c = np.linalg.pinv(X_training_with1.T.dot(S_diag).dot(X_training_with1)).dot(X_training_with1.T).dot(S_diag).dot(z)"
   ]
  },
  {
   "cell_type": "code",
   "execution_count": 52,
   "metadata": {},
   "outputs": [],
   "source": [
    "# Predict\n",
    "prob = np.zeros((n,1))\n",
    "y_pred_LR = np.zeros((n,1))\n",
    "correctCounts_LR = 0\n",
    "TP_index_LR = []\n",
    "TN_index_LR = []\n",
    "FP_index_LR = []\n",
    "FN_index_LR = []\n",
    "\n",
    "for i in range(n):\n",
    "    prob[i] = np.e**(X_testing_with1[i,:].dot(w_c))/(1+np.e**(X_testing_with1[i,:].dot(w_c)))\n",
    "    y_pred_LR[i]=yPositive if prob[i]>=0.5 else yNegative\n",
    "    if y_pred_LR[i]==y_testing[i]: correctCounts_LR+=1\n",
    "    if y_pred_LR[i]==y_testing[i] and y_testing[i]==yPositive:TP_index_LR.append(i)\n",
    "    if y_pred_LR[i]==y_testing[i] and y_testing[i]==yNegative:TN_index_LR.append(i)\n",
    "\n",
    "FP_index_LR = list(set(range(0,100,1))-set(TP_index_LR))\n",
    "FN_index_LR = list(set(range(100,200,1))-set(TN_index_LR))\n",
    "acc_LR = 1.0*correctCounts_LR/n"
   ]
  },
  {
   "cell_type": "code",
   "execution_count": 53,
   "metadata": {},
   "outputs": [
    {
     "name": "stdout",
     "output_type": "stream",
     "text": [
      "Classification accuracy:  82.0 %\n"
     ]
    }
   ],
   "source": [
    "print \"Classification accuracy: \", acc_LR*100, \"%\""
   ]
  },
  {
   "cell_type": "code",
   "execution_count": 110,
   "metadata": {},
   "outputs": [
    {
     "data": {
      "image/png": "[encoded data removed]",
      "text/plain": [
       "<Figure size 432x288 with 1 Axes>"
      ]
     },
     "metadata": {
      "needs_background": "light"
     },
     "output_type": "display_data"
    }
   ],
   "source": [
    "# Scatter Plot of testing data\n",
    "fig4, ax4 = plt.subplots()\n",
    "sc41 = ax4.scatter(X_testing[TP_index_LR,0], \n",
    "                  X_testing[TP_index_LR,1], \n",
    "                  marker='o', \n",
    "                  color='red',\n",
    "                  s=5)\n",
    "sc42 = ax4.scatter(X_testing[TN_index_LR,0], \n",
    "                 X_testing[TN_index_LR,1], \n",
    "                 marker='o', \n",
    "                 color='blue',\n",
    "                 s=5)\n",
    "sc43 = ax4.scatter(X_testing[FP_index_LR,0], \n",
    "                  X_testing[FP_index_LR,1], \n",
    "                  marker='x', \n",
    "                  color='orange',\n",
    "                  s=50)\n",
    "sc44 = ax4.scatter(X_testing[FN_index_LR,0], \n",
    "                 X_testing[FN_index_LR,1], \n",
    "                 marker='x', \n",
    "                 color='green',\n",
    "                 s=50)\n",
    "plt.axis('equal')\n",
    "plt.legend((sc41, sc42, sc43, sc44),\n",
    "           ('+1', '-1','mis +1', 'mis -1'),\n",
    "           scatterpoints=1,\n",
    "           loc='lower right',\n",
    "           ncol=2,\n",
    "           fontsize=8)\n",
    "\n",
    "slop_LR = -w_c[0] / w_c[1]\n",
    "xx_LR = np.linspace(*ax4.get_xlim())\n",
    "yy_LR = slop_LR * xx_LR - (w_c[2]) / w_c[1]\n",
    "plt.plot(xx_LDA, yy_LDA.ravel(), 'k-')\n",
    "\n",
    "plt.title('Testing Data')\n",
    "plt.show()"
   ]
  },
  {
   "cell_type": "markdown",
   "metadata": {},
   "source": [
    "## Part4: Quadratic Discriminant Analysis"
   ]
  },
  {
   "cell_type": "code",
   "execution_count": 27,
   "metadata": {},
   "outputs": [],
   "source": [
    "cov_l = np.array(cov1)\n",
    "cov_k = np.array(cov2)"
   ]
  },
  {
   "cell_type": "code",
   "execution_count": 29,
   "metadata": {},
   "outputs": [],
   "source": [
    "y_predict_QDA = np.zeros((n,1))\n",
    "correctCounts_QDA = 0\n",
    "TP_index_QDA = []\n",
    "TN_index_QDA = []\n",
    "FP_index_QDA = []\n",
    "FN_index_QDA = []\n",
    "prob_QDA = np.zeros((n,1))\n",
    "\n",
    "for i in range(n):\n",
    "    Dm_xTol = 0.5*(X_training[i,:]-mu_l.T).dot(cov_l).dot((X_training[i,:]-mu_l.T).T)\n",
    "    Dm_xTok = 0.5*(X_training[i,:]-mu_k.T).dot(cov_k).dot((X_training[i,:]-mu_k.T).T)\n",
    "    prob_QDA[i] = Dm_xTol - Dm_xTok + np.log(pi_k/pi_l)\n",
    "    y_predict_QDA[i]=yPositive if prob_QDA[i] >= 0 else yNegative\n",
    "    if y_predict_QDA[i]==y_testing[i]: correctCounts_QDA+=1\n",
    "    if y_predict_QDA[i]==y_testing[i] and y_testing[i]==yPositive:TP_index_QDA.append(i)\n",
    "    if y_predict_QDA[i]==y_testing[i] and y_testing[i]==yNegative:TN_index_QDA.append(i)  \n",
    "\n",
    "FP_index_QDA = list(set(range(0,100,1))-set(TP_index_QDA))\n",
    "FN_index_QDA = list(set(range(100,200,1))-set(TN_index_QDA))\n",
    "acc_QDA = 1.0*correctCounts_QDA/n"
   ]
  },
  {
   "cell_type": "code",
   "execution_count": 30,
   "metadata": {},
   "outputs": [
    {
     "name": "stdout",
     "output_type": "stream",
     "text": [
      "Classification accuracy:  81.5 %\n"
     ]
    }
   ],
   "source": [
    "print \"Classification accuracy: \", acc_QDA*100, \"%\""
   ]
  },
  {
   "cell_type": "code",
   "execution_count": 66,
   "metadata": {},
   "outputs": [],
   "source": [
    "def decision_boundary(x_vec, mu_vec1, mu_vec2):\n",
    "    g1 = (x_vec-mu_vec1).T.dot((x_vec-mu_vec1))\n",
    "    g2 = 2*( (x_vec-mu_vec2).T.dot((x_vec-mu_vec2)) )\n",
    "    return g1 - g2"
   ]
  },
  {
   "cell_type": "code",
   "execution_count": 106,
   "metadata": {},
   "outputs": [
    {
     "data": {
      "image/png": "[encoded data removed]",
      "text/plain": [
       "<Figure size 432x288 with 1 Axes>"
      ]
     },
     "metadata": {
      "needs_background": "light"
     },
     "output_type": "display_data"
    }
   ],
   "source": [
    "# Scatter Plot of testing data\n",
    "fig5, ax5 = plt.subplots()\n",
    "sc51 = ax5.scatter(X_testing[TP_index_QDA,0], \n",
    "                  X_testing[TP_index_QDA,1], \n",
    "                  marker='o', \n",
    "                  color='red',\n",
    "                  s=5)\n",
    "sc52 = ax5.scatter(X_testing[TN_index_QDA,0], \n",
    "                 X_testing[TN_index_QDA,1], \n",
    "                 marker='o', \n",
    "                 color='blue',\n",
    "                 s=5)\n",
    "sc53 = ax5.scatter(X_testing[FP_index_QDA,0], \n",
    "                  X_testing[FP_index_QDA,1], \n",
    "                  marker='x', \n",
    "                  color='orange',\n",
    "                  s=50)\n",
    "sc54 = ax5.scatter(X_testing[FN_index_QDA,0], \n",
    "                 X_testing[FN_index_QDA,1], \n",
    "                 marker='x', \n",
    "                 color='green',\n",
    "                 s=50)\n",
    "plt.axis('equal')\n",
    "plt.legend((sc51, sc52, sc53, sc54),\n",
    "           ('+1', '-1','mis +1', 'mis -1'),\n",
    "           scatterpoints=1,\n",
    "           loc='lower right',\n",
    "           ncol=2,\n",
    "           fontsize=8)\n",
    "\n",
    "x5_vec = np.linspace(-5, 2.0)\n",
    "ax5.contour(x5_vec, x5_vec,\n",
    "           decision_boundary(x5_vec, mu_l, mu_k),\n",
    "           levels=[0], cmap=\"Greys_r\")\n",
    "\n",
    "plt.title('Testing Data')\n",
    "plt.show()"
   ]
  }
 ],
 "metadata": {
  "kernelspec": {
   "display_name": "Python 2",
   "language": "python",
   "name": "python2"
  },
  "language_info": {
   "codemirror_mode": {
    "name": "ipython",
    "version": 2
   },
   "file_extension": ".py",
   "mimetype": "text/x-python",
   "name": "python",
   "nbconvert_exporter": "python",
   "pygments_lexer": "ipython2",
   "version": "2.7.5"
  }
 },
 "nbformat": 4,
 "nbformat_minor": 2
}
